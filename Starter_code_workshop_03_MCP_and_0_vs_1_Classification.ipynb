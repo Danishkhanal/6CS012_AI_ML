{
  "nbformat": 4,
  "nbformat_minor": 0,
  "metadata": {
    "colab": {
      "provenance": []
    },
    "kernelspec": {
      "name": "python3",
      "display_name": "Python 3"
    },
    "language_info": {
      "name": "python"
    }
  },
  "cells": [
    {
      "cell_type": "markdown",
      "source": [
        "# Implementation of MCP Neuron for AND and OR Function."
      ],
      "metadata": {
        "id": "IY-_Zy_b71lD"
      }
    },
    {
      "cell_type": "code",
      "source": [
        "def MCP_Neurons_AND(X1, X2, T):\n",
        "  \"\"\"\n",
        "  This functions implements basic AND operations with MCP Neuron for two inputs.\n",
        "  Arguments:\n",
        "  Inputs:\n",
        "  X1 (1 nd array): An array of binary values.\n",
        "  X2 (1 nd array): An array of binary values.\n",
        "  Output:\n",
        "  state_neuron(1D-list): An state of neuron 1 0r 0 for the particular inputs.\n",
        "  \"\"\"\n",
        "  assert len(X1) == len(X2)\n",
        "  ### YOUR CODE HERE ###\n",
        "  # Perform an element wise addition of two input arrays stored in a new array(list):\n",
        "  # Create a new array to put all the prediction let's name that a state_neuron.\n",
        "  # Append 1 in sate_neuron if sum (element) of above list is above Threshold else append 0.\n",
        "  state_neuron = []\n",
        "  for x1, x2 in zip(X1, X2):\n",
        "      # Sum the inputs\n",
        "      total_input = x1 + x2\n",
        "\n",
        "      if total_input >= T:\n",
        "          state_neuron.append(1)\n",
        "      else:\n",
        "          state_neuron.append(0)\n",
        "  return state_neuron"
      ],
      "metadata": {
        "id": "Fu-YDOe_8GJi"
      },
      "execution_count": 7,
      "outputs": []
    },
    {
      "cell_type": "code",
      "source": [
        "# Example usage for MCP_Neurons_AND function\n",
        "X1 = [0, 0, 1, 1]\n",
        "X2 = [0, 1, 0, 1]\n",
        "T = 2  # Threshold value\n",
        "\n",
        "# Call the MCP_Neurons_AND function\n",
        "result = MCP_Neurons_AND(X1, X2, T)\n",
        "\n",
        "# Print the result\n",
        "print(f\"Output of AND gate for inputs {X1} and {X2} with threshold {T}: {result}\")\n"
      ],
      "metadata": {
        "colab": {
          "base_uri": "https://localhost:8080/"
        },
        "id": "e2-lKfat8ocN",
        "outputId": "540b2469-50d4-48fd-c9f9-5bccb241f5ab"
      },
      "execution_count": 8,
      "outputs": [
        {
          "output_type": "stream",
          "name": "stdout",
          "text": [
            "Output of AND gate for inputs [0, 0, 1, 1] and [0, 1, 0, 1] with threshold 2: [0, 0, 0, 1]\n"
          ]
        }
      ]
    },
    {
      "cell_type": "code",
      "source": [
        "def MCP_Neurons_OR(X1, X2, T):\n",
        "    \"\"\"\n",
        "    This function implements basic OR operations with MCP Neuron for two inputs.\n",
        "    Arguments:\n",
        "    Inputs:\n",
        "    X1 (1D array): An array of binary values.\n",
        "    X2 (1D array): An array of binary values.\n",
        "    Output:\n",
        "    state_neuron (1D list): The state of the neuron (1 or 0) for the particular inputs.\n",
        "    \"\"\"\n",
        "    assert len(X1) == len(X2)\n",
        "    ### YOUR CODE HERE ###\n",
        "    # Perform an element wise addition of two input arrays stored in a new array(list):\n",
        "    # Create a new array to put all the prediction let's name that a state_neuron.\n",
        "    # Append 1 in sate_neuron if sum (element) of above list is above Threshold else append 0.\n",
        "    state_neuron = []  # Initialize the list to store the neuron states\n",
        "\n",
        "    for x1, x2 in zip(X1, X2):\n",
        "        total_input = x1 + x2\n",
        "\n",
        "        if total_input >= T:\n",
        "            state_neuron.append(1)\n",
        "        else:\n",
        "            state_neuron.append(0)\n",
        "    return state_neuron\n"
      ],
      "metadata": {
        "id": "7xaMXlLT9FHC"
      },
      "execution_count": 9,
      "outputs": []
    },
    {
      "cell_type": "code",
      "source": [
        "# Example usage for MCP_Neurons_OR function\n",
        "X1 = [0, 0, 1, 1]\n",
        "X2 = [0, 1, 0, 1]\n",
        "T = 1  # Threshold value for OR gate\n",
        "\n",
        "# Call the MCP_Neurons_OR function\n",
        "result_or = MCP_Neurons_OR(X1, X2, T)\n",
        "\n",
        "# Print the result\n",
        "print(f\"Output of OR gate for inputs {X1} and {X2} with threshold {T}: {result_or}\")\n"
      ],
      "metadata": {
        "colab": {
          "base_uri": "https://localhost:8080/"
        },
        "id": "6H-YOy268_Jo",
        "outputId": "d39ad096-3024-475e-c7f6-be5be1067dec"
      },
      "execution_count": 10,
      "outputs": [
        {
          "output_type": "stream",
          "name": "stdout",
          "text": [
            "Output of OR gate for inputs [0, 0, 1, 1] and [0, 1, 0, 1] with threshold 1: [0, 1, 1, 1]\n"
          ]
        }
      ]
    },
    {
      "cell_type": "markdown",
      "source": [
        "#Question 1.\n",
        "List out all the limitations of MCP - Neurons."
      ],
      "metadata": {
        "id": "jlHy7Ia2vfD_"
      }
    },
    {
      "cell_type": "markdown",
      "source": [
        "Answer: The limitations of MCP (McCulloch-Pitts) neurons are:\n",
        "\n",
        "Binary Output: They only give answers of 0 or 1, which isn't how real neurons work since real neurons give a range of responses.\n",
        "\n",
        "No Learning: They can't learn from experience. The weights (importance of inputs) are set in advance and don't change.\n",
        "\n",
        "Simple Activation: They use a very simple on/off switch (threshold) for activation, which can't handle more complex situations.\n",
        "\n",
        "Over-Simplified: They are too basic compared to real neurons, which are much more complex.\n",
        "\n",
        "No Time Factor: They don't consider how things change over time, while real neurons can remember and adjust based on past activity.\n",
        "\n",
        "Limited Power: They can't do complicated tasks, only basic logical operations like AND or OR.\n",
        "\n",
        "Can't Handle Non-Linear Problems: They can't handle problems that involve more complex relationships, like predicting things with curves or patterns.\n",
        "\n",
        "No Flexibility: They don't adjust to new data or situations, so they can’t generalize well.\n",
        "\n",
        "Can't Handle Continuous Inputs: They only work with binary (0 or 1) inputs, not with numbers that vary smoothly.\n",
        "\n",
        "Limited to Simple Logic: They are mainly used for basic logical operations, like in a truth table, so they can't solve complex problems like modern AI systems."
      ],
      "metadata": {
        "id": "XchatI8Fvury"
      }
    },
    {
      "cell_type": "markdown",
      "source": [
        "#Question 2:\n",
        "Think if you can develop a logic to solve for XOR function using MCP Neuron."
      ],
      "metadata": {
        "id": "07ax5AfPvsWm"
      }
    },
    {
      "cell_type": "code",
      "source": [
        "def xor(A, B):\n",
        "    if A == 1 or B == 1:\n",
        "        output_1 = 1  # OR operation\n",
        "    else:\n",
        "        output_1 = 0\n",
        "\n",
        "    if A != B:\n",
        "        output_2 = 1  # XOR result\n",
        "    else:\n",
        "        output_2 = 0\n",
        "\n",
        "    return output_2"
      ],
      "metadata": {
        "id": "s2PHhloOwKWh"
      },
      "execution_count": 11,
      "outputs": []
    },
    {
      "cell_type": "markdown",
      "source": [
        "# Implementation for 0 Vs. 1 Classification."
      ],
      "metadata": {
        "id": "Apa9bfLIFJHe"
      }
    },
    {
      "cell_type": "markdown",
      "source": [
        "## Step 1: Load the Dataset"
      ],
      "metadata": {
        "id": "iom83mGLFP_1"
      }
    },
    {
      "cell_type": "code",
      "source": [
        "import pandas as pd\n",
        "import numpy as np\n",
        "import matplotlib.pyplot as plt\n",
        "\n",
        "\n",
        "# Load the dataset\n",
        "df_0_1 = pd.read_csv(\"/content/mnist_0_and_1.csv\")  # Add the correct file path if necessary\n",
        "\n",
        "# Extract features and labels\n",
        "X = df_0_1.drop(columns=[\"label\"]).values  # 784 pixels\n",
        "y = df_0_1[\"label\"].values  # Labels (0 or 1)\n",
        "\n",
        "# Check the shape of the features and labels\n",
        "print(\"Feature matrix shape:\", X.shape)\n",
        "print(\"Label vector shape:\", y.shape)\n"
      ],
      "metadata": {
        "colab": {
          "base_uri": "https://localhost:8080/"
        },
        "id": "7rkW58ct9IYq",
        "outputId": "30f4c5ea-18f6-4b26-962b-2bc1e4dd8e02"
      },
      "execution_count": 12,
      "outputs": [
        {
          "output_type": "stream",
          "name": "stdout",
          "text": [
            "Feature matrix shape: (1735, 784)\n",
            "Label vector shape: (1735,)\n"
          ]
        }
      ]
    },
    {
      "cell_type": "markdown",
      "source": [
        "### Viewing the Dataset."
      ],
      "metadata": {
        "id": "jlq0EY2jHheD"
      }
    },
    {
      "cell_type": "code",
      "source": [
        "# Separate images for label 0 and label 1\n",
        "images_0 = X[y == 0]  # Get all images with label 0\n",
        "images_1 = X[y == 1]  # Get all images with label 1\n",
        "\n",
        "fig, axes = plt.subplots(2, 5, figsize=(10, 5))\n",
        "\n",
        "# Check if the arrays have the required amount of data\n",
        "if len(images_0) < 5 or len(images_1) < 5:\n",
        "    print(\"Error: Not enough images in images_0 or images_1 to plot 5 images.\")\n",
        "else:\n",
        "    for i in range(5):\n",
        "        # Plot digit 0\n",
        "        axes[0, i].imshow(images_0[i].reshape(28, 28), cmap=\"gray\")\n",
        "        axes[0, i].set_title(\"Label: 0\")\n",
        "        axes[0, i].axis(\"off\")\n",
        "        # Plot digit 1\n",
        "        axes[1, i].imshow(images_1[i].reshape(28, 28), cmap=\"gray\")\n",
        "        axes[1, i].set_title(\"Label: 1\")\n",
        "        axes[1, i].axis(\"off\")\n",
        "    plt.suptitle(\"First 5 Images of 0 and 1 from MNIST Subset\")\n",
        "    plt.show()"
      ],
      "metadata": {
        "colab": {
          "base_uri": "https://localhost:8080/",
          "height": 451
        },
        "id": "XKY2qjhCHAZ7",
        "outputId": "272d46c9-32b7-468d-8f91-a9baecba54a9"
      },
      "execution_count": 13,
      "outputs": [
        {
          "output_type": "display_data",
          "data": {
            "text/plain": [
              "<Figure size 1000x500 with 10 Axes>"
            ],
            "image/png": "[encoded data removed]"
          },
          "metadata": {}
        }
      ]
    },
    {
      "cell_type": "markdown",
      "source": [
        "## Step - 2 - Initializing the Weights:"
      ],
      "metadata": {
        "id": "qyM34tbHIqGi"
      }
    },
    {
      "cell_type": "code",
      "source": [
        "# Initialize weights and bias\n",
        "weights = np.zeros(X.shape[1])  # 784 weights (one for each pixel)\n",
        "bias = 0\n",
        "learning_rate = 0.1\n",
        "epochs = 100"
      ],
      "metadata": {
        "id": "SMsXaZ38HfBI"
      },
      "execution_count": 14,
      "outputs": []
    },
    {
      "cell_type": "markdown",
      "source": [
        "## Step - 3 - Make a Decision function:"
      ],
      "metadata": {
        "id": "EvraDxaeRVeo"
      }
    },
    {
      "cell_type": "code",
      "source": [
        "import numpy as np\n",
        "\n",
        "def decision_function(X, weights, bias):\n",
        "    \"\"\"\n",
        "    Compute the predicted labels for the input data.\n",
        "\n",
        "    Parameters:\n",
        "    - X: Features (input data) as a numpy array of shape (n_samples, n_features)\n",
        "    - weights: Updated weights after training\n",
        "    - bias: Updated bias after training\n",
        "\n",
        "    Returns:\n",
        "    - y_pred_all: The predicted labels for the input data\n",
        "    \"\"\"\n",
        "    predictions = np.dot(X, weights) + bias\n",
        "    #####Your Code Here############  # Activation function (step function)\n",
        "    y_pred_all = np.where(predictions >= 0, 1, 0)\n",
        "    return y_pred_all"
      ],
      "metadata": {
        "id": "6uVj75txLWQi"
      },
      "execution_count": 15,
      "outputs": []
    },
    {
      "cell_type": "markdown",
      "source": [
        "## Step - 3 - Implement the Perceptron Learning Algorithm"
      ],
      "metadata": {
        "id": "AVZNGyRdI4I4"
      }
    },
    {
      "cell_type": "code",
      "source": [
        "def train_perceptron(X, y, weights, bias, learning_rate=0.1, epochs=100):\n",
        "    \"\"\"\n",
        "    Train the perceptron using the Perceptron Learning Algorithm.\n",
        "\n",
        "    Parameters:\n",
        "    - X: Features (input data) as a numpy array of shape (n_samples, n_features)\n",
        "    - y: Labels (true output) as a numpy array of shape (n_samples,)\n",
        "    - weights: Initial weights as a numpy array of shape (n_features,)\n",
        "    - bias: Initial bias value (scalar)\n",
        "    - learning_rate: Learning rate for weight updates (default is 0.1)\n",
        "    - epochs: Number of iterations to train the model (default is 100)\n",
        "\n",
        "    Returns:\n",
        "    - weights: Updated weights after training\n",
        "    - bias: Updated bias after training\n",
        "    - accuracy: Total correct prediction.\n",
        "    \"\"\"\n",
        "    # Step 3: Perceptron Learning Algorithm\n",
        "    # Your Code here#\n",
        "    for epoch in range(epochs):\n",
        "        correct_predictions = 0\n",
        "\n",
        "        for i in range(len(X)):\n",
        "            prediction = np.dot(X[i], weights) + bias\n",
        "            prediction = 1 if prediction >= 0 else 0\n",
        "\n",
        "            if prediction != y[i]:\n",
        "                if y[i] == 1:\n",
        "                    weights += learning_rate * X[i]\n",
        "                    bias += learning_rate\n",
        "                else:\n",
        "                    weights -= learning_rate * X[i]\n",
        "                    bias -= learning_rate\n",
        "\n",
        "            if prediction == y[i]:\n",
        "                correct_predictions += 1\n",
        "\n",
        "        accuracy = correct_predictions / len(X)\n",
        "        print(f'Epoch {epoch + 1}/{epochs}, Accuracy: {accuracy:.4f}')\n",
        "\n",
        "    return weights, bias, accuracy"
      ],
      "metadata": {
        "id": "Dg1ocrycJWpA"
      },
      "execution_count": 16,
      "outputs": []
    },
    {
      "cell_type": "markdown",
      "source": [
        "## Training the Perceptron"
      ],
      "metadata": {
        "id": "Va6AGI6iMAG9"
      }
    },
    {
      "cell_type": "code",
      "source": [
        "# After training the model with the perceptron_learning_algorithm\n",
        "weights, bias, accuracy = train_perceptron(X, y, weights, bias)\n",
        "\n",
        "# Evaluate the model using the new function\n",
        "print(\"The Final Accuracy is: \", accuracy)"
      ],
      "metadata": {
        "colab": {
          "base_uri": "https://localhost:8080/"
        },
        "id": "cn8XBYuZLswI",
        "outputId": "8831acc9-9178-4f54-a601-23e13013a8fc"
      },
      "execution_count": 17,
      "outputs": [
        {
          "output_type": "stream",
          "name": "stdout",
          "text": [
            "Epoch 1/100, Accuracy: 0.9925\n",
            "Epoch 2/100, Accuracy: 0.9983\n",
            "Epoch 3/100, Accuracy: 0.9983\n",
            "Epoch 4/100, Accuracy: 1.0000\n",
            "Epoch 5/100, Accuracy: 1.0000\n",
            "Epoch 6/100, Accuracy: 1.0000\n",
            "Epoch 7/100, Accuracy: 1.0000\n",
            "Epoch 8/100, Accuracy: 1.0000\n",
            "Epoch 9/100, Accuracy: 1.0000\n",
            "Epoch 10/100, Accuracy: 1.0000\n",
            "Epoch 11/100, Accuracy: 1.0000\n",
            "Epoch 12/100, Accuracy: 1.0000\n",
            "Epoch 13/100, Accuracy: 1.0000\n",
            "Epoch 14/100, Accuracy: 1.0000\n",
            "Epoch 15/100, Accuracy: 1.0000\n",
            "Epoch 16/100, Accuracy: 1.0000\n",
            "Epoch 17/100, Accuracy: 1.0000\n",
            "Epoch 18/100, Accuracy: 1.0000\n",
            "Epoch 19/100, Accuracy: 1.0000\n",
            "Epoch 20/100, Accuracy: 1.0000\n",
            "Epoch 21/100, Accuracy: 1.0000\n",
            "Epoch 22/100, Accuracy: 1.0000\n",
            "Epoch 23/100, Accuracy: 1.0000\n",
            "Epoch 24/100, Accuracy: 1.0000\n",
            "Epoch 25/100, Accuracy: 1.0000\n",
            "Epoch 26/100, Accuracy: 1.0000\n",
            "Epoch 27/100, Accuracy: 1.0000\n",
            "Epoch 28/100, Accuracy: 1.0000\n",
            "Epoch 29/100, Accuracy: 1.0000\n",
            "Epoch 30/100, Accuracy: 1.0000\n",
            "Epoch 31/100, Accuracy: 1.0000\n",
            "Epoch 32/100, Accuracy: 1.0000\n",
            "Epoch 33/100, Accuracy: 1.0000\n",
            "Epoch 34/100, Accuracy: 1.0000\n",
            "Epoch 35/100, Accuracy: 1.0000\n",
            "Epoch 36/100, Accuracy: 1.0000\n",
            "Epoch 37/100, Accuracy: 1.0000\n",
            "Epoch 38/100, Accuracy: 1.0000\n",
            "Epoch 39/100, Accuracy: 1.0000\n",
            "Epoch 40/100, Accuracy: 1.0000\n",
            "Epoch 41/100, Accuracy: 1.0000\n",
            "Epoch 42/100, Accuracy: 1.0000\n",
            "Epoch 43/100, Accuracy: 1.0000\n",
            "Epoch 44/100, Accuracy: 1.0000\n",
            "Epoch 45/100, Accuracy: 1.0000\n",
            "Epoch 46/100, Accuracy: 1.0000\n",
            "Epoch 47/100, Accuracy: 1.0000\n",
            "Epoch 48/100, Accuracy: 1.0000\n",
            "Epoch 49/100, Accuracy: 1.0000\n",
            "Epoch 50/100, Accuracy: 1.0000\n",
            "Epoch 51/100, Accuracy: 1.0000\n",
            "Epoch 52/100, Accuracy: 1.0000\n",
            "Epoch 53/100, Accuracy: 1.0000\n",
            "Epoch 54/100, Accuracy: 1.0000\n",
            "Epoch 55/100, Accuracy: 1.0000\n",
            "Epoch 56/100, Accuracy: 1.0000\n",
            "Epoch 57/100, Accuracy: 1.0000\n",
            "Epoch 58/100, Accuracy: 1.0000\n",
            "Epoch 59/100, Accuracy: 1.0000\n",
            "Epoch 60/100, Accuracy: 1.0000\n",
            "Epoch 61/100, Accuracy: 1.0000\n",
            "Epoch 62/100, Accuracy: 1.0000\n",
            "Epoch 63/100, Accuracy: 1.0000\n",
            "Epoch 64/100, Accuracy: 1.0000\n",
            "Epoch 65/100, Accuracy: 1.0000\n",
            "Epoch 66/100, Accuracy: 1.0000\n",
            "Epoch 67/100, Accuracy: 1.0000\n",
            "Epoch 68/100, Accuracy: 1.0000\n",
            "Epoch 69/100, Accuracy: 1.0000\n",
            "Epoch 70/100, Accuracy: 1.0000\n",
            "Epoch 71/100, Accuracy: 1.0000\n",
            "Epoch 72/100, Accuracy: 1.0000\n",
            "Epoch 73/100, Accuracy: 1.0000\n",
            "Epoch 74/100, Accuracy: 1.0000\n",
            "Epoch 75/100, Accuracy: 1.0000\n",
            "Epoch 76/100, Accuracy: 1.0000\n",
            "Epoch 77/100, Accuracy: 1.0000\n",
            "Epoch 78/100, Accuracy: 1.0000\n",
            "Epoch 79/100, Accuracy: 1.0000\n",
            "Epoch 80/100, Accuracy: 1.0000\n",
            "Epoch 81/100, Accuracy: 1.0000\n",
            "Epoch 82/100, Accuracy: 1.0000\n",
            "Epoch 83/100, Accuracy: 1.0000\n",
            "Epoch 84/100, Accuracy: 1.0000\n",
            "Epoch 85/100, Accuracy: 1.0000\n",
            "Epoch 86/100, Accuracy: 1.0000\n",
            "Epoch 87/100, Accuracy: 1.0000\n",
            "Epoch 88/100, Accuracy: 1.0000\n",
            "Epoch 89/100, Accuracy: 1.0000\n",
            "Epoch 90/100, Accuracy: 1.0000\n",
            "Epoch 91/100, Accuracy: 1.0000\n",
            "Epoch 92/100, Accuracy: 1.0000\n",
            "Epoch 93/100, Accuracy: 1.0000\n",
            "Epoch 94/100, Accuracy: 1.0000\n",
            "Epoch 95/100, Accuracy: 1.0000\n",
            "Epoch 96/100, Accuracy: 1.0000\n",
            "Epoch 97/100, Accuracy: 1.0000\n",
            "Epoch 98/100, Accuracy: 1.0000\n",
            "Epoch 99/100, Accuracy: 1.0000\n",
            "Epoch 100/100, Accuracy: 1.0000\n",
            "The Final Accuracy is:  1.0\n"
          ]
        }
      ]
    },
    {
      "cell_type": "markdown",
      "source": [
        "## Step 5: Visualize Misclassified Images"
      ],
      "metadata": {
        "id": "-SLq1jbSMKPm"
      }
    },
    {
      "cell_type": "code",
      "source": [
        "# Get predictions for all data points\n",
        "predictions = np.dot(X, weights) + bias\n",
        "y_pred = np.where(predictions >= 0, 1, 0)\n",
        "\n",
        "# Calculate final accuracy\n",
        "final_accuracy = np.mean(y_pred == y)\n",
        "print(f\"Final Accuracy: {final_accuracy:.4f}\")\n",
        "\n",
        "# Step 5: Visualize Misclassified Images\n",
        "misclassified_idx = np.where(y_pred != y)[0]\n",
        "if len(misclassified_idx) > 0:\n",
        "    fig, axes = plt.subplots(2, 5, figsize=(10, 5))\n",
        "    for ax, idx in zip(axes.flat, misclassified_idx[:10]):  # Show 10 misclassified images\n",
        "        ax.imshow(X[idx].reshape(28, 28), cmap=\"gray\")\n",
        "        ax.set_title(f\"Pred: {y_pred[idx]}, True: {y[idx]}\")\n",
        "        ax.axis(\"off\")\n",
        "    plt.suptitle(\"Misclassified Images\")\n",
        "    plt.show()\n",
        "else:\n",
        "    print(\"All images were correctly classified!\")"
      ],
      "metadata": {
        "colab": {
          "base_uri": "https://localhost:8080/"
        },
        "id": "KAMz1RPGMN_A",
        "outputId": "d892229d-f6e7-41fa-a0f9-69c5e0d6a5fd"
      },
      "execution_count": 18,
      "outputs": [
        {
          "output_type": "stream",
          "name": "stdout",
          "text": [
            "Final Accuracy: 1.0000\n",
            "All images were correctly classified!\n"
          ]
        }
      ]
    },
    {
      "cell_type": "markdown",
      "source": [
        "#Question3:\n",
        "What does the weights array represent in this context?"
      ],
      "metadata": {
        "id": "Y1kNE3Eubn3e"
      }
    },
    {
      "cell_type": "markdown",
      "source": [
        "Answer: The weights array represents the parameters that determine the importance of each input feature (pixel) in the decision-making process of the perceptron.\n"
      ],
      "metadata": {
        "id": "Kh_OJEBSbpyi"
      }
    },
    {
      "cell_type": "markdown",
      "source": [
        "# Question 4:\n",
        "Why are we initializing the weights to zero? What effect could this\n",
        "have on the training process?"
      ],
      "metadata": {
        "id": "lXelEslbbrqI"
      }
    },
    {
      "cell_type": "markdown",
      "source": [
        "Answer: We initialize weights to zero to start with a neutral model, and it ensures that the updates during training are based on the errors. However, if weights are all zero, the model may take longer to converge or have slower learning in some cases.\n",
        "\n",
        "\n",
        "\n"
      ],
      "metadata": {
        "id": "2-bBo13nbu9G"
      }
    },
    {
      "cell_type": "markdown",
      "source": [
        "#Question 5:\n",
        "What is the purpose of the output = np.dot(X[i], weights) + bias line?"
      ],
      "metadata": {
        "id": "u5BeY8r6c_pC"
      }
    },
    {
      "cell_type": "markdown",
      "source": [
        "Answer: The purpose of the line output = np.dot(X[i], weights) + bias is to compute the weighted sum of the inputs (X[i]) by multiplying them with the corresponding weights, and then adding the bias. This result is used to determine the output of the perceptron, which is passed through the activation function to make a prediction."
      ],
      "metadata": {
        "id": "nT7oFcxQdDCL"
      }
    },
    {
      "cell_type": "markdown",
      "source": [
        "#Question 6:\n",
        "What happens when the prediction is wrong? How are the weights and\n",
        "bias updated?"
      ],
      "metadata": {
        "id": "zPV0GgHJdGVs"
      }
    },
    {
      "cell_type": "markdown",
      "source": [
        "Answer: When the prediction is wrong, the weights and bias are updated to reduce the error. Specifically, the weights are adjusted using the formula:\n",
        "\n",
        "Weight update: wi = wi + η(y - ŷ)xi\n",
        "Bias update: b = b + η(y - ŷ)\n",
        "\n",
        "Here, η is the learning rate, y is the true label, ŷ is the predicted label, and xi is the input feature. This update corrects the model’s parameters to improve future predictions."
      ],
      "metadata": {
        "id": "AxjxfyjUdLf7"
      }
    },
    {
      "cell_type": "markdown",
      "source": [
        "#Question 7:\n",
        "Why is the final accuracy important, and what do you expect it to be?"
      ],
      "metadata": {
        "id": "WPmJHvrAdTfi"
      }
    },
    {
      "cell_type": "markdown",
      "source": [
        "Answer: The final accuracy is important because it measures how well the perceptron model has learned to classify the data correctly. It reflects the model's overall performance. Ideally, we expect the accuracy to be high, as this indicates the model is making correct predictions on most of the data. However, the exact accuracy will depend on the complexity of the dataset and the training process."
      ],
      "metadata": {
        "id": "mS2q7iozdZbX"
      }
    },
    {
      "cell_type": "markdown",
      "source": [
        "#Question 8:\n",
        "What does misclassified idx store, and how is it used in this code?"
      ],
      "metadata": {
        "id": "-rF4xlEmdgBq"
      }
    },
    {
      "cell_type": "markdown",
      "source": [
        "The misclassified_idx stores the indices of the data points where the predicted label (y_pred) does not match the true label (y). It is used in the code to identify and visualize the images that were incorrectly classified by the model. These indices are then used to display the misclassified images for further analysis."
      ],
      "metadata": {
        "id": "gm5rSPaieAXu"
      }
    },
    {
      "cell_type": "markdown",
      "source": [
        "#Question 9:\n",
        "How do you interpret the result if the output is ”All images were\n",
        "correctly classified!”?"
      ],
      "metadata": {
        "id": "jq7_JE8veFA8"
      }
    },
    {
      "cell_type": "markdown",
      "source": [
        "If the output is \"All images were correctly classified!\", it means that the model successfully learned the decision boundary and made accurate predictions on all the test samples. This indicates that the perceptron model performed well on the dataset, achieving perfect accuracy."
      ],
      "metadata": {
        "id": "7XTedX-8eJ4D"
      }
    },
    {
      "cell_type": "markdown",
      "source": [
        "# Perceptron Algorithm for 3 vs 5 Classification."
      ],
      "metadata": {
        "id": "vM7Ec3yRrKoI"
      }
    },
    {
      "cell_type": "code",
      "source": [
        "df = pd.read_csv(\"/content/mnist_3_and_5.csv\")\n",
        "\n",
        "df['label'] = df['label'].map({3: 0, 5: 1})\n",
        "\n",
        "X = df.drop('label', axis=1).values  # shape: (n_samples, 784)\n",
        "y = df['label'].values               # shape: (n_samples,)\n",
        "\n",
        "print(\"Feature matrix shape:\", X.shape)\n",
        "print(\"Label vector shape:\", y.shape)\n",
        "\n",
        "images_3 = X[y == 0]  # Originally digit 3\n",
        "images_5 = X[y == 1]  # Originally digit 5\n",
        "\n",
        "fig, axes = plt.subplots(2, 5, figsize=(10, 5))\n",
        "\n",
        "if len(images_3) < 5 or len(images_5) < 5:\n",
        "    print(\"Error: Not enough images in images_3 or images_5 to plot 5 images.\")\n",
        "else:\n",
        "    for i in range(5):\n",
        "        axes[0, i].imshow(images_3[i].reshape(28, 28), cmap=\"gray\")\n",
        "        axes[0, i].set_title(\"Label: 3\")\n",
        "        axes[0, i].axis(\"off\")\n",
        "        axes[1, i].imshow(images_5[i].reshape(28, 28), cmap=\"gray\")\n",
        "        axes[1, i].set_title(\"Label: 5\")\n",
        "        axes[1, i].axis(\"off\")\n",
        "\n",
        "    plt.suptitle(\"First 5 Images of 3 and 5 from MNIST Subset\")\n",
        "    plt.tight_layout()\n",
        "    plt.show()\n",
        "np.random.seed(42)\n",
        "weights = np.random.rand(X.shape[1])  # Random weights for 784 features\n",
        "bias = 0.0\n",
        "def decision_function(X, weights, bias):\n",
        "    predictions = np.dot(X, weights) + bias\n",
        "    y_pred_all = np.where(predictions >= 0, 1, 0)\n",
        "    return y_pred_all\n",
        "def train_perceptron(X, y, weights, bias, learning_rate=0.1, epochs=10):\n",
        "    accuracy = 0\n",
        "    for _ in range(epochs):\n",
        "        correct = 0\n",
        "        for i in range(len(X)):\n",
        "            prediction = np.dot(X[i], weights) + bias\n",
        "            y_pred = 1 if prediction >= 0 else 0\n",
        "            error = y[i] - y_pred\n",
        "            weights += learning_rate * error * X[i]\n",
        "            bias += learning_rate * error\n",
        "            if error == 0:\n",
        "                correct += 1\n",
        "        accuracy = correct\n",
        "    return weights, bias, accuracy\n",
        "weights, bias, accuracy = train_perceptron(X, y, weights, bias, epochs=10)\n",
        "print(f\"Correct Predictions in Final Epoch: {accuracy}/{len(X)}\")\n",
        "y_pred = decision_function(X, weights, bias)\n",
        "misclassified_indices = np.where(y_pred != y)[0]\n",
        "print(f\"Total Misclassified Samples: {len(misclassified_indices)}\")\n",
        "\n",
        "plt.figure(figsize=(12, 6))\n",
        "for i, idx in enumerate(misclassified_indices[:10]):\n",
        "    img = X[idx].reshape(28, 28)\n",
        "    true_label = 3 if y[idx] == 0 else 5\n",
        "    pred_label = 3 if y_pred[idx] ==0 else 5\n",
        "\n",
        "    plt.subplot(2, 5, i + 1)\n",
        "    plt.imshow(img, cmap='gray')\n",
        "    plt.title(f' Pred: {pred_label},True: {true_label}')\n",
        "    plt.axis('off')\n",
        "\n",
        "plt.suptitle('Misclassified Images on 3 or 5 Classification.', fontsize=16)\n",
        "plt.tight_layout()\n",
        "plt.show()\n"
      ],
      "metadata": {
        "id": "CeEDo-9gNknE",
        "colab": {
          "base_uri": "https://localhost:8080/",
          "height": 1000
        },
        "outputId": "887ba785-7729-4584-9c9f-bffd114e9edc"
      },
      "execution_count": 35,
      "outputs": [
        {
          "output_type": "stream",
          "name": "stdout",
          "text": [
            "Feature matrix shape: (2741, 784)\n",
            "Label vector shape: (2741,)\n"
          ]
        },
        {
          "output_type": "display_data",
          "data": {
            "text/plain": [
              "<Figure size 1000x500 with 10 Axes>"
            ],
            "image/png": "[encoded data removed]"
          },
          "metadata": {}
        },
        {
          "output_type": "stream",
          "name": "stdout",
          "text": [
            "Correct Predictions in Final Epoch: 2616/2741\n",
            "Total Misclassified Samples: 155\n"
          ]
        },
        {
          "output_type": "display_data",
          "data": {
            "text/plain": [
              "<Figure size 1200x600 with 10 Axes>"
            ],
            "image/png": "[encoded data removed]"
          },
          "metadata": {}
        }
      ]
    }
  ]
}