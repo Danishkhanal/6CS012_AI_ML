{
  "nbformat": 4,
  "nbformat_minor": 0,
  "metadata": {
    "colab": {
      "provenance": [],
      "gpuType": "T4"
    },
    "kernelspec": {
      "name": "python3",
      "display_name": "Python 3"
    },
    "language_info": {
      "name": "python"
    },
    "accelerator": "GPU"
  },
  "cells": [
    {
      "cell_type": "markdown",
      "source": [
        "## Helper Function for Text Cleaning:\n",
        "\n",
        "Implement a Helper Function as per Text Preprocessing Notebook and Complete the following pipeline."
      ],
      "metadata": {
        "id": "SxV-QBHp-B6J"
      }
    },
    {
      "cell_type": "markdown",
      "source": [
        "# Build a Text Cleaning Pipeline"
      ],
      "metadata": {
        "id": "B-llg-TI_Drw"
      }
    },
    {
      "cell_type": "code",
      "source": [
        "import re\n",
        "import nltk\n",
        "from nltk.corpus import stopwords\n",
        "from nltk.stem import WordNetLemmatizer, PorterStemmer\n",
        "\n",
        "nltk.download('stopwords')\n",
        "nltk.download('wordnet')  # Required for WordNetLemmatizer\n",
        "\n",
        "def text_cleaning_pipeline(dataset, rule=\"lemmatize\"):\n",
        "    # 1. Lowercasing the text\n",
        "    data = dataset.lower()\n",
        "\n",
        "    # 2. Removing URLs\n",
        "    data = re.sub(r'http\\S+|www\\S+|https\\S+', '', data, flags=re.MULTILINE)\n",
        "\n",
        "    # 3. Removing emojis and punctuation\n",
        "    data = re.sub(r'[^\\w\\s]', '', data)\n",
        "\n",
        "    # 4. Create tokens\n",
        "    tokens = data.split()\n",
        "\n",
        "    # 5. Remove stopwords\n",
        "    stop_words = set(stopwords.words('english'))\n",
        "    tokens = [w for w in tokens if not w in stop_words]\n",
        "\n",
        "    # 6. Lemmatization or Stemming\n",
        "    if rule == \"lemmatize\":\n",
        "        lemmatizer = WordNetLemmatizer()\n",
        "        tokens = [lemmatizer.lemmatize(w) for w in tokens]\n",
        "    elif rule == \"stem\":\n",
        "        stemmer = PorterStemmer()\n",
        "        tokens = [stemmer.stem(w) for w in tokens]\n",
        "    else:\n",
        "        print(\"Pick between lemmatize or stem\")\n",
        "\n",
        "    return \" \".join(tokens)"
      ],
      "metadata": {
        "id": "KCT1T3-68tN9",
        "colab": {
          "base_uri": "https://localhost:8080/"
        },
        "outputId": "7378ebfd-85c9-4ca9-8a99-689cb237589a"
      },
      "execution_count": 31,
      "outputs": [
        {
          "output_type": "stream",
          "name": "stderr",
          "text": [
            "[nltk_data] Downloading package stopwords to /root/nltk_data...\n",
            "[nltk_data]   Package stopwords is already up-to-date!\n",
            "[nltk_data] Downloading package wordnet to /root/nltk_data...\n",
            "[nltk_data]   Package wordnet is already up-to-date!\n"
          ]
        }
      ]
    },
    {
      "cell_type": "markdown",
      "source": [
        "# Text Classification using Machine Learning Models\n"
      ],
      "metadata": {
        "id": "hzMm4-1KCNkH"
      }
    },
    {
      "cell_type": "markdown",
      "source": [
        "### 📝 Instructions: Trump Tweet Sentiment Classification\n",
        "\n",
        "1. **Load the Dataset**  \n",
        "   Load the dataset named `\"trump_tweet_sentiment_analysis.csv\"` using `pandas`. Ensure the dataset contains at least two columns: `\"text\"` and `\"label\"`.\n",
        "\n",
        "2. **Text Cleaning and Tokenization**  \n",
        "   Apply a text preprocessing pipeline to the `\"text\"` column. This should include:\n",
        "   - Lowercasing the text  \n",
        "   - Removing URLs, mentions, punctuation, and special characters  \n",
        "   - Removing stopwords  \n",
        "   - Tokenization (optional: stemming or lemmatization)\n",
        "   - \"Complete the above function\"\n",
        "\n",
        "3. **Train-Test Split**  \n",
        "   Split the cleaned and tokenized dataset into **training** and **testing** sets using `train_test_split` from `sklearn.model_selection`.\n",
        "\n",
        "4. **TF-IDF Vectorization**  \n",
        "   Import and use the `TfidfVectorizer` from `sklearn.feature_extraction.text` to transform the training and testing texts into numerical feature vectors.\n",
        "\n",
        "5. **Model Training and Evaluation**  \n",
        "   Import **Logistic Regression** (or any machine learning model of your choice) from `sklearn.linear_model`. Train it on the TF-IDF-embedded training data, then evaluate it using the test set.  \n",
        "   - Print the **classification report** using `classification_report` from `sklearn.metrics`.\n"
      ],
      "metadata": {
        "id": "oFltIxr9L2Wu"
      }
    },
    {
      "cell_type": "code",
      "source": [
        "from google.colab import drive\n",
        "drive.mount('/content/drive')"
      ],
      "metadata": {
        "colab": {
          "base_uri": "https://localhost:8080/"
        },
        "id": "sFlLauRpvIfB",
        "outputId": "e21fea42-69f4-41c0-d796-6d70a12c934d"
      },
      "execution_count": 35,
      "outputs": [
        {
          "output_type": "stream",
          "name": "stdout",
          "text": [
            "Drive already mounted at /content/drive; to attempt to forcibly remount, call drive.mount(\"/content/drive\", force_remount=True).\n"
          ]
        }
      ]
    },
    {
      "cell_type": "markdown",
      "source": [
        "#Load the Dataset\n",
        "Load the dataset named \"trump_tweet_sentiment_analysis.csv\" using pandas. Ensure the dataset contains at least two columns: \"text\" and \"label\"."
      ],
      "metadata": {
        "id": "hHAvi-4t7kpr"
      }
    },
    {
      "cell_type": "code",
      "source": [
        "import pandas as pd\n",
        "\n",
        "df = pd.read_csv('/content/drive/MyDrive/AI and ML/trum_tweet_sentiment_analysis.csv')\n",
        "\n",
        "if 'text' in df.columns and 'label' in df.columns:\n",
        "  print(\"Dataset loaded successfully with 'text' and 'label' columns.\")\n",
        "else:\n",
        "  print(\"Dataset does not contain the required columns.\")\n",
        "\n",
        "print(df.columns)"
      ],
      "metadata": {
        "colab": {
          "base_uri": "https://localhost:8080/"
        },
        "id": "sCRBpwKSrwAO",
        "outputId": "7b6f4666-9bdc-4a6f-e3d9-f3ee7cc4973b"
      },
      "execution_count": 36,
      "outputs": [
        {
          "output_type": "stream",
          "name": "stdout",
          "text": [
            "Dataset does not contain the required columns.\n",
            "Index(['text', 'Sentiment'], dtype='object')\n"
          ]
        }
      ]
    },
    {
      "cell_type": "markdown",
      "source": [
        "# Train-Test Split"
      ],
      "metadata": {
        "id": "VXYrnE-pv1EZ"
      }
    },
    {
      "cell_type": "code",
      "source": [
        "from sklearn.model_selection import train_test_split\n",
        "\n",
        "X = df['text']\n",
        "y = df['Sentiment']\n",
        "\n",
        "# Apply the cleaning pipeline to the text data\n",
        "X_cleaned = X.apply(text_cleaning_pipeline)\n",
        "\n",
        "# Now use the cleaned data for the split\n",
        "X_train, X_test, y_train, y_test = train_test_split(X_cleaned, y, test_size=0.2, random_state=42)"
      ],
      "metadata": {
        "id": "6SdMy53ZsUep"
      },
      "execution_count": 37,
      "outputs": []
    },
    {
      "cell_type": "markdown",
      "source": [
        "# TF-IDF Vectorization"
      ],
      "metadata": {
        "id": "GvBdNZYWv53m"
      }
    },
    {
      "cell_type": "code",
      "source": [
        "from sklearn.feature_extraction.text import TfidfVectorizer\n",
        "\n",
        "# TF-IDF Vectorization\n",
        "tfidf_vectorizer = TfidfVectorizer(max_features=5000)  # You can adjust max_features\n",
        "X_train_tfidf = tfidf_vectorizer.fit_transform(X_train)\n",
        "X_test_tfidf = tfidf_vectorizer.transform(X_test)"
      ],
      "metadata": {
        "id": "PAKtp-kkrs5p"
      },
      "execution_count": 38,
      "outputs": []
    },
    {
      "cell_type": "markdown",
      "source": [
        "# Model Training and Evaluation"
      ],
      "metadata": {
        "id": "HxD-3aRlv8pP"
      }
    },
    {
      "cell_type": "code",
      "source": [
        "from sklearn.linear_model import LogisticRegression\n",
        "from sklearn.metrics import classification_report\n",
        "\n",
        "# Model Training and Evaluation\n",
        "model = LogisticRegression(solver='liblinear')  # You can choose a different solver\n",
        "model.fit(X_train_tfidf, y_train)\n",
        "y_pred = model.predict(X_test_tfidf)\n",
        "\n",
        "# Print the classification report\n",
        "print(classification_report(y_test, y_pred))"
      ],
      "metadata": {
        "colab": {
          "base_uri": "https://localhost:8080/"
        },
        "id": "FQYZzXoXtSOF",
        "outputId": "f9781aff-f7a1-476f-c159-1081eb4d9240"
      },
      "execution_count": 39,
      "outputs": [
        {
          "output_type": "stream",
          "name": "stdout",
          "text": [
            "              precision    recall  f1-score   support\n",
            "\n",
            "           0       0.93      0.95      0.94    248563\n",
            "           1       0.90      0.86      0.88    121462\n",
            "\n",
            "    accuracy                           0.92    370025\n",
            "   macro avg       0.92      0.91      0.91    370025\n",
            "weighted avg       0.92      0.92      0.92    370025\n",
            "\n"
          ]
        }
      ]
    }
  ]
}